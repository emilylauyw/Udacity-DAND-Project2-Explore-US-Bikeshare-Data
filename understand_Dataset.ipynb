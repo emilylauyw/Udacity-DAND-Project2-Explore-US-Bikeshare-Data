{
 "cells": [
  {
   "cell_type": "code",
   "execution_count": 14,
   "metadata": {},
   "outputs": [],
   "source": [
    "\"\"\"\n",
    "Using pandas to better understand the bike share dataset.\n",
    "\"\"\"\n",
    "\n",
    "import pandas as pd\n",
    "df = pd.read_csv(\"chicago.csv\")"
   ]
  },
  {
   "cell_type": "code",
   "execution_count": 15,
   "metadata": {},
   "outputs": [
    {
     "name": "stdout",
     "output_type": "stream",
     "text": [
      "   Unnamed: 0           Start Time             End Time  Trip Duration  \\\n",
      "0     1423854  2017-06-23 15:09:32  2017-06-23 15:14:53            321   \n",
      "1      955915  2017-05-25 18:19:03  2017-05-25 18:45:53           1610   \n",
      "2        9031  2017-01-04 08:27:49  2017-01-04 08:34:45            416   \n",
      "3      304487  2017-03-06 13:49:38  2017-03-06 13:55:28            350   \n",
      "4       45207  2017-01-17 14:53:07  2017-01-17 15:02:01            534   \n",
      "5     1473887  2017-06-26 09:01:20  2017-06-26 09:11:06            586   \n",
      "6      961916  2017-05-26 09:41:44  2017-05-26 09:46:25            281   \n",
      "7       65924  2017-01-21 14:28:38  2017-01-21 14:40:41            723   \n",
      "8      606841  2017-04-20 16:08:51  2017-04-20 16:20:20            689   \n",
      "9      135470  2017-02-06 18:00:47  2017-02-06 18:09:00            493   \n",
      "\n",
      "                   Start Station                    End Station   User Type  \\\n",
      "0           Wood St & Hubbard St        Damen Ave & Chicago Ave  Subscriber   \n",
      "1            Theater on the Lake   Sheffield Ave & Waveland Ave  Subscriber   \n",
      "2             May St & Taylor St            Wood St & Taylor St  Subscriber   \n",
      "3  Christiana Ave & Lawrence Ave   St. Louis Ave & Balmoral Ave  Subscriber   \n",
      "4         Clark St & Randolph St   Desplaines St & Jackson Blvd  Subscriber   \n",
      "5   Clinton St & Washington Blvd           Canal St & Taylor St  Subscriber   \n",
      "6          Ashland Ave & Lake St           Wood St & Hubbard St  Subscriber   \n",
      "7     Larrabee St & Kingsbury St     Larrabee St & Armitage Ave    Customer   \n",
      "8         Sedgwick St & Huron St  Halsted St & Blackhawk St (*)  Subscriber   \n",
      "9   Stetson Ave & South Water St   Clinton St & Washington Blvd  Subscriber   \n",
      "\n",
      "   Gender  Birth Year  \n",
      "0    Male      1992.0  \n",
      "1  Female      1992.0  \n",
      "2    Male      1981.0  \n",
      "3    Male      1986.0  \n",
      "4    Male      1975.0  \n",
      "5    Male      1990.0  \n",
      "6  Female      1983.0  \n",
      "7     NaN         NaN  \n",
      "8    Male      1984.0  \n",
      "9    Male      1979.0  \n"
     ]
    }
   ],
   "source": [
    "# start by viewing the first few rows of the dataset.\n",
    "\n",
    "print(df.head(10))\n",
    "\n",
    "#noticed that there NaN values under Gender and Birth Year columns."
   ]
  },
  {
   "cell_type": "code",
   "execution_count": 16,
   "metadata": {},
   "outputs": [
    {
     "name": "stdout",
     "output_type": "stream",
     "text": [
      "Index(['Unnamed: 0', 'Start Time', 'End Time', 'Trip Duration',\n",
      "       'Start Station', 'End Station', 'User Type', 'Gender', 'Birth Year'],\n",
      "      dtype='object')\n"
     ]
    }
   ],
   "source": [
    "# view what are the columns in this dataset\n",
    "\n",
    "print(df.columns)"
   ]
  },
  {
   "cell_type": "code",
   "execution_count": 17,
   "metadata": {},
   "outputs": [
    {
     "name": "stdout",
     "output_type": "stream",
     "text": [
      "<class 'pandas.core.frame.DataFrame'>\n",
      "RangeIndex: 300000 entries, 0 to 299999\n",
      "Data columns (total 9 columns):\n",
      "Unnamed: 0       300000 non-null int64\n",
      "Start Time       300000 non-null object\n",
      "End Time         300000 non-null object\n",
      "Trip Duration    300000 non-null int64\n",
      "Start Station    300000 non-null object\n",
      "End Station      300000 non-null object\n",
      "User Type        300000 non-null object\n",
      "Gender           238948 non-null object\n",
      "Birth Year       238981 non-null float64\n",
      "dtypes: float64(1), int64(2), object(6)\n",
      "memory usage: 20.6+ MB\n",
      "None\n"
     ]
    }
   ],
   "source": [
    "# view the different types of values in each column\n",
    "\n",
    "print(df.info())"
   ]
  }
 ],
 "metadata": {
  "kernelspec": {
   "display_name": "Python 3",
   "language": "python",
   "name": "python3"
  },
  "language_info": {
   "codemirror_mode": {
    "name": "ipython",
    "version": 3
   },
   "file_extension": ".py",
   "mimetype": "text/x-python",
   "name": "python",
   "nbconvert_exporter": "python",
   "pygments_lexer": "ipython3",
   "version": "3.6.5"
  }
 },
 "nbformat": 4,
 "nbformat_minor": 2
}
